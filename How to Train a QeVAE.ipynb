{
 "cells": [
  {
   "cell_type": "code",
   "execution_count": 1,
   "id": "fitted-messaging",
   "metadata": {},
   "outputs": [],
   "source": [
    "import os, sys\n",
    "import numpy as np\n",
    "import matplotlib.pyplot as plt"
   ]
  },
  {
   "cell_type": "code",
   "execution_count": 2,
   "id": "decreased-turkish",
   "metadata": {},
   "outputs": [],
   "source": [
    "sourcecode_dir = \"Sourcecode\"\n",
    "sys.path.append(sourcecode_dir)"
   ]
  },
  {
   "cell_type": "code",
   "execution_count": 3,
   "id": "nervous-demand",
   "metadata": {},
   "outputs": [],
   "source": [
    "from QeVAE import QeVAEWrapper\n",
    "from Auxillary_functions import get_dict_from_array, normalize\n",
    "from main import setup_dataloaders"
   ]
  },
  {
   "cell_type": "markdown",
   "id": "sudden-basics",
   "metadata": {},
   "source": [
    "## Load dataset and create dataloaders"
   ]
  },
  {
   "cell_type": "code",
   "execution_count": 4,
   "id": "tamil-priority",
   "metadata": {},
   "outputs": [],
   "source": [
    "dataset = np.array([[1,1]]*50+ [[0,0]]*50 + [[1,0]]*20+ [[0,1]]*80)\n",
    "dataset_dict = normalize(get_dict_from_array(dataset))"
   ]
  },
  {
   "cell_type": "code",
   "execution_count": 5,
   "id": "unlikely-employer",
   "metadata": {},
   "outputs": [
    {
     "data": {
      "image/png": "[encoded data removed]",
      "text/plain": [
       "<Figure size 432x288 with 1 Axes>"
      ]
     },
     "metadata": {
      "needs_background": "light"
     },
     "output_type": "display_data"
    }
   ],
   "source": [
    "plt.bar(range(4), dataset_dict.values(), width=0.3)\n",
    "plt.xticks(range(4),  dataset_dict.keys())\n",
    "plt.ylabel(\"Probability\"); plt.xlabel(\"Measurement result\")\n",
    "plt.show()"
   ]
  },
  {
   "cell_type": "code",
   "execution_count": 6,
   "id": "abroad-metadata",
   "metadata": {},
   "outputs": [
    {
     "name": "stdout",
     "output_type": "stream",
     "text": [
      "Size of training set: 150 | Size of validation set: 50\n"
     ]
    }
   ],
   "source": [
    "# Create training and validation datasets\n",
    "\n",
    "dataloaders, dataloader_info = setup_dataloaders(dataset, want_datasetsize=1, train_size=0.75)\n",
    "traindataloader, validdataloader = dataloaders"
   ]
  },
  {
   "cell_type": "markdown",
   "id": "divided-transfer",
   "metadata": {},
   "source": [
    "## Create model and start training"
   ]
  },
  {
   "cell_type": "code",
   "execution_count": 7,
   "id": "tutorial-russian",
   "metadata": {},
   "outputs": [],
   "source": [
    "qevae = QeVAEWrapper(num_qubits=2, latentsize=1)"
   ]
  },
  {
   "cell_type": "code",
   "execution_count": 8,
   "id": "forward-english",
   "metadata": {},
   "outputs": [
    {
     "name": "stdout",
     "output_type": "stream",
     "text": [
      "Directory path: qevae-logfiles\\qvae_qstatecompilation_lr001_004_2023_05_25-03_11_40_PM\n",
      "(1|5 , 1|10) Total loss: 0.09348 | Likelihood loss: 0.09173 | KL loss : 0.00175 \n",
      "(1|5 , 2|10) Total loss: 0.07454 | Likelihood loss: 0.07309 | KL loss : 0.00145 \n",
      "(1|5 , 3|10) Total loss: 0.08028 | Likelihood loss: 0.07863 | KL loss : 0.00165 \n",
      "(1|5 , 4|10) Total loss: 0.08679 | Likelihood loss: 0.08520 | KL loss : 0.00160 \n",
      "(1|5 , 5|10) Total loss: 0.07583 | Likelihood loss: 0.07428 | KL loss : 0.00155 \n",
      "(1|5 , 6|10) Total loss: 0.31368 | Likelihood loss: 0.31156 | KL loss : 0.00211 \n",
      "(1|5 , 7|10) Total loss: 0.08117 | Likelihood loss: 0.07972 | KL loss : 0.00145 \n",
      "(1|5 , 8|10) Total loss: 0.08178 | Likelihood loss: 0.08038 | KL loss : 0.00141 \n",
      "(1|5 , 9|10) Total loss: 0.08491 | Likelihood loss: 0.08355 | KL loss : 0.00136 \n",
      "(1|5 , 10|10) Total loss: 0.27013 | Likelihood loss: 0.26826 | KL loss : 0.00187 \n",
      "Fidelity: 0.9644362015036378\n",
      "Time taken 38.411482s\n",
      "Epoch: 01/05 | Beta 1.000 | Avg Train Loss: 0.1243 | Valid Loss: 0.9075 | Wrong states: 0 | Mass on right states 1.0000\n",
      "\n",
      "Trigger times: 0\n",
      "\n",
      "(2|5 , 1|10) Total loss: 0.07937 | Likelihood loss: 0.07842 | KL loss : 0.00095 \n",
      "(2|5 , 2|10) Total loss: 0.06160 | Likelihood loss: 0.06065 | KL loss : 0.00094 \n",
      "(2|5 , 3|10) Total loss: 0.08026 | Likelihood loss: 0.07907 | KL loss : 0.00120 \n",
      "(2|5 , 4|10) Total loss: 0.08220 | Likelihood loss: 0.08104 | KL loss : 0.00116 \n",
      "(2|5 , 5|10) Total loss: 0.22020 | Likelihood loss: 0.21859 | KL loss : 0.00162 \n",
      "(2|5 , 6|10) Total loss: 0.06947 | Likelihood loss: 0.06872 | KL loss : 0.00074 \n",
      "(2|5 , 7|10) Total loss: 0.07519 | Likelihood loss: 0.07448 | KL loss : 0.00071 \n",
      "(2|5 , 8|10) Total loss: 0.23106 | Likelihood loss: 0.22958 | KL loss : 0.00149 \n",
      "(2|5 , 9|10) Total loss: 0.08281 | Likelihood loss: 0.08217 | KL loss : 0.00065 \n",
      "(2|5 , 10|10) Total loss: 0.06195 | Likelihood loss: 0.06114 | KL loss : 0.00081 \n",
      "Fidelity: 0.9797831486038803\n",
      "Time taken 35.895731s\n",
      "Epoch: 02/05 | Beta 1.000 | Avg Train Loss: 0.1044 | Valid Loss: 0.9331 | Wrong states: 0 | Mass on right states 1.0000\n",
      "\n",
      "Trigger Times: 1 \n",
      "\n",
      "(3|5 , 1|10) Total loss: 0.07955 | Likelihood loss: 0.07863 | KL loss : 0.00092 \n",
      "(3|5 , 2|10) Total loss: 0.07565 | Likelihood loss: 0.07509 | KL loss : 0.00056 \n",
      "(3|5 , 3|10) Total loss: 0.08123 | Likelihood loss: 0.08038 | KL loss : 0.00086 \n",
      "(3|5 , 4|10) Total loss: 0.07968 | Likelihood loss: 0.07885 | KL loss : 0.00083 \n",
      "(3|5 , 5|10) Total loss: 0.08030 | Likelihood loss: 0.07950 | KL loss : 0.00080 \n",
      "(3|5 , 6|10) Total loss: 0.06073 | Likelihood loss: 0.06001 | KL loss : 0.00072 \n",
      "(3|5 , 7|10) Total loss: 0.07604 | Likelihood loss: 0.07529 | KL loss : 0.00075 \n",
      "(3|5 , 8|10) Total loss: 0.07914 | Likelihood loss: 0.07842 | KL loss : 0.00072 \n",
      "(3|5 , 9|10) Total loss: 0.05974 | Likelihood loss: 0.05906 | KL loss : 0.00067 \n",
      "(3|5 , 10|10) Total loss: 0.08254 | Likelihood loss: 0.08217 | KL loss : 0.00038 \n",
      "Fidelity: 0.988067154051253\n",
      "Time taken 35.784837s\n",
      "Epoch: 03/05 | Beta 1.000 | Avg Train Loss: 0.0755 | Valid Loss: 0.9785 | Wrong states: 0 | Mass on right states 1.0000\n",
      "\n",
      "Trigger Times: 2 \n",
      "\n",
      "(4|5 , 1|10) Total loss: 0.08259 | Likelihood loss: 0.08194 | KL loss : 0.00065 \n",
      "(4|5 , 2|10) Total loss: 0.07323 | Likelihood loss: 0.07289 | KL loss : 0.00034 \n",
      "(4|5 , 3|10) Total loss: 0.07831 | Likelihood loss: 0.07799 | KL loss : 0.00032 \n",
      "(4|5 , 4|10) Total loss: 0.07766 | Likelihood loss: 0.07736 | KL loss : 0.00030 \n",
      "(4|5 , 5|10) Total loss: 0.07021 | Likelihood loss: 0.06965 | KL loss : 0.00056 \n",
      "(4|5 , 6|10) Total loss: 0.07536 | Likelihood loss: 0.07509 | KL loss : 0.00027 \n",
      "(4|5 , 7|10) Total loss: 0.06486 | Likelihood loss: 0.06430 | KL loss : 0.00056 \n",
      "(4|5 , 8|10) Total loss: 0.07242 | Likelihood loss: 0.07192 | KL loss : 0.00050 \n",
      "(4|5 , 9|10) Total loss: 0.07908 | Likelihood loss: 0.07885 | KL loss : 0.00023 \n",
      "(4|5 , 10|10) Total loss: 0.07434 | Likelihood loss: 0.07388 | KL loss : 0.00046 \n",
      "Fidelity: 0.9905533453736007\n",
      "Time taken 35.318411s\n",
      "Epoch: 04/05 | Beta 1.000 | Avg Train Loss: 0.0748 | Valid Loss: 1.0557 | Wrong states: 0 | Mass on right states 1.0000\n",
      "\n",
      "Trigger Times: 3 \n",
      "\n",
      "(5|5 , 1|10) Total loss: 0.07948 | Likelihood loss: 0.07928 | KL loss : 0.00020 \n",
      "(5|5 , 2|10) Total loss: 0.17612 | Likelihood loss: 0.17527 | KL loss : 0.00085 \n",
      "(5|5 , 3|10) Total loss: 0.07841 | Likelihood loss: 0.07799 | KL loss : 0.00041 \n",
      "(5|5 , 4|10) Total loss: 0.07408 | Likelihood loss: 0.07368 | KL loss : 0.00040 \n",
      "(5|5 , 5|10) Total loss: 0.07387 | Likelihood loss: 0.07348 | KL loss : 0.00038 \n",
      "(5|5 , 6|10) Total loss: 0.16093 | Likelihood loss: 0.16012 | KL loss : 0.00080 \n",
      "(5|5 , 7|10) Total loss: 0.07645 | Likelihood loss: 0.07632 | KL loss : 0.00014 \n",
      "(5|5 , 8|10) Total loss: 0.07363 | Likelihood loss: 0.07329 | KL loss : 0.00034 \n",
      "(5|5 , 9|10) Total loss: 0.06804 | Likelihood loss: 0.06763 | KL loss : 0.00040 \n",
      "(5|5 , 10|10) Total loss: 0.06885 | Likelihood loss: 0.06854 | KL loss : 0.00031 \n",
      "Fidelity: 0.988269705076544\n",
      "Time taken 36.343251s\n",
      "Epoch: 05/05 | Beta 1.000 | Avg Train Loss: 0.0930 | Valid Loss: 1.1596 | Wrong states: 0 | Mass on right states 1.0000\n",
      "\n",
      "Trigger Times: 4 \n",
      "\n",
      "Training completed...\n",
      "Results written to qevae-logfiles\\qvae_qstatecompilation_lr001_004_2023_05_25-03_11_40_PM\n"
     ]
    }
   ],
   "source": [
    "qevae.fit(traindataloader, validdataloader, original_results=dataset_dict)"
   ]
  },
  {
   "cell_type": "markdown",
   "id": "systematic-torture",
   "metadata": {},
   "source": [
    "## Generate measurement probability distribution from decoder"
   ]
  },
  {
   "cell_type": "code",
   "execution_count": 11,
   "id": "coupled-aquatic",
   "metadata": {},
   "outputs": [
    {
     "data": {
      "text/plain": [
       "tensor([0.3125, 0.2949, 0.0713, 0.3213])"
      ]
     },
     "execution_count": 11,
     "metadata": {},
     "output_type": "execute_result"
    }
   ],
   "source": [
    "qevae.sample()"
   ]
  }
 ],
 "metadata": {
  "kernelspec": {
   "display_name": "Python 3",
   "language": "python",
   "name": "python3"
  },
  "language_info": {
   "codemirror_mode": {
    "name": "ipython",
    "version": 3
   },
   "file_extension": ".py",
   "mimetype": "text/x-python",
   "name": "python",
   "nbconvert_exporter": "python",
   "pygments_lexer": "ipython3",
   "version": "3.9.1"
  }
 },
 "nbformat": 4,
 "nbformat_minor": 5
}
