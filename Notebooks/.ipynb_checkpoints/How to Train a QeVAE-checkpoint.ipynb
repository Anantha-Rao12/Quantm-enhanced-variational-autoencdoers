{
 "cells": [
  {
   "cell_type": "code",
   "execution_count": 3,
   "id": "fitted-messaging",
   "metadata": {},
   "outputs": [],
   "source": [
    "import os, sys\n",
    "import numpy as np"
   ]
  },
  {
   "cell_type": "code",
   "execution_count": 2,
   "id": "decreased-turkish",
   "metadata": {},
   "outputs": [],
   "source": [
    "sourcecode_dir = \"../Sourcecode\""
   ]
  },
  {
   "cell_type": "code",
   "execution_count": 4,
   "id": "removable-parallel",
   "metadata": {},
   "outputs": [],
   "source": [
    "sys.path.append(sourcecode_dir)"
   ]
  },
  {
   "cell_type": "code",
   "execution_count": 5,
   "id": "nervous-demand",
   "metadata": {},
   "outputs": [
    {
     "ename": "IndentationError",
     "evalue": "unindent does not match any outer indentation level (Model_learndist.py, line 73)",
     "output_type": "error",
     "traceback": [
      "Traceback \u001b[1;36m(most recent call last)\u001b[0m:\n",
      "  File \u001b[0;32m\"C:\\Users\\Ananth_Rao\\miniconda3\\lib\\site-packages\\IPython\\core\\interactiveshell.py\"\u001b[0m, line \u001b[0;32m3437\u001b[0m, in \u001b[0;35mrun_code\u001b[0m\n    exec(code_obj, self.user_global_ns, self.user_ns)\n",
      "\u001b[1;36m  File \u001b[1;32m\"<ipython-input-5-241f66e58899>\"\u001b[1;36m, line \u001b[1;32m1\u001b[1;36m, in \u001b[1;35m<module>\u001b[1;36m\u001b[0m\n\u001b[1;33m    import Model_learndist\u001b[0m\n",
      "\u001b[1;36m  File \u001b[1;32m\"../Sourcecode\\Model_learndist.py\"\u001b[1;36m, line \u001b[1;32m73\u001b[0m\n\u001b[1;33m    def __init__(self, qnn, latent_dim:int):\u001b[0m\n\u001b[1;37m                                            ^\u001b[0m\n\u001b[1;31mIndentationError\u001b[0m\u001b[1;31m:\u001b[0m unindent does not match any outer indentation level\n"
     ]
    }
   ],
   "source": [
    "import Model_learndist"
   ]
  },
  {
   "cell_type": "code",
   "execution_count": null,
   "id": "blessed-founder",
   "metadata": {},
   "outputs": [],
   "source": []
  }
 ],
 "metadata": {
  "kernelspec": {
   "display_name": "Python 3",
   "language": "python",
   "name": "python3"
  },
  "language_info": {
   "codemirror_mode": {
    "name": "ipython",
    "version": 3
   },
   "file_extension": ".py",
   "mimetype": "text/x-python",
   "name": "python",
   "nbconvert_exporter": "python",
   "pygments_lexer": "ipython3",
   "version": "3.9.1"
  }
 },
 "nbformat": 4,
 "nbformat_minor": 5
}
